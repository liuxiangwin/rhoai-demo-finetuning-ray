{
 "cells": [
  {
   "cell_type": "code",
   "execution_count": 1,
   "id": "c403b526-df50-429f-8614-c2c4283c28d4",
   "metadata": {
    "tags": []
   },
   "outputs": [],
   "source": [
    "from codeflare_sdk import Cluster, ClusterConfiguration, TokenAuthentication\n",
    "import os"
   ]
  },
  {
   "cell_type": "markdown",
   "id": "b4028118-55bd-4796-a488-721d34483382",
   "metadata": {},
   "source": [
    "### Login to OpenShift Cluster"
   ]
  },
  {
   "cell_type": "code",
   "execution_count": 2,
   "id": "2becf9cd-65d3-4fa5-b922-bf6a293b7e4f",
   "metadata": {
    "tags": []
   },
   "outputs": [
    {
     "name": "stdout",
     "output_type": "stream",
     "text": [
      "Insecure request warnings have been disabled\n"
     ]
    },
    {
     "data": {
      "text/plain": [
       "'Logged into https://api.cluster-7vbv2.7vbv2.sandbox2425.opentlc.com:6443'"
      ]
     },
     "execution_count": 2,
     "metadata": {},
     "output_type": "execute_result"
    }
   ],
   "source": [
    "auth = TokenAuthentication(\n",
    "    # Get from `oc whoami -t`\n",
    "    token = \"sha256~EQP2L9gKGuKf0RBIpySzeUCLrQzAC8fWdwIJRt9XPKU\",\n",
    "    # Get from `oc whoami --show-server`\n",
    "    server = \"https://api.cluster-7vbv2.7vbv2.sandbox2425.opentlc.com:6443\",\n",
    "    skip_tls=True\n",
    ")\n",
    "auth.login()"
   ]
  },
  {
   "cell_type": "markdown",
   "id": "fb522315-8428-4618-a256-12a05e1af127",
   "metadata": {},
   "source": [
    "### Create Ray Cluster"
   ]
  },
  {
   "cell_type": "code",
   "execution_count": 3,
   "id": "fce0f508-0e44-46b8-8a59-84a23d7cbb5d",
   "metadata": {
    "scrolled": true,
    "tags": []
   },
   "outputs": [
    {
     "name": "stdout",
     "output_type": "stream",
     "text": [
      "Yaml resources loaded for raytest\n"
     ]
    },
    {
     "data": {
      "application/vnd.jupyter.widget-view+json": {
       "model_id": "41ecde27ff0446e18872b7f3fb53a82d",
       "version_major": 2,
       "version_minor": 0
      },
      "text/plain": [
       "VBox(children=(HBox(children=(Button(description='Cluster Up', icon='play', style=ButtonStyle(), tooltip='Crea…"
      ]
     },
     "metadata": {},
     "output_type": "display_data"
    },
    {
     "data": {
      "application/vnd.jupyter.widget-view+json": {
       "model_id": "e1de360a0d2e49dda29fb627b7514e28",
       "version_major": 2,
       "version_minor": 0
      },
      "text/plain": [
       "Output()"
      ]
     },
     "metadata": {},
     "output_type": "display_data"
    }
   ],
   "source": [
    "cluster = Cluster(ClusterConfiguration(\n",
    "    name='raytest', \n",
    "    namespace='agentic-workshop', \n",
    "    worker_extended_resource_requests={\"nvidia.com/gpu\": 1},\n",
    "    num_workers=3,\n",
    "    worker_cpu_requests=2,\n",
    "    worker_cpu_limits=2,\n",
    "    worker_memory_requests=8,\n",
    "    worker_memory_limits=8,\n",
    "    # image=\"quay.io/rhoai/ray:2.35.0-py39-cu121-torch24-sh20\",\n",
    "    image=\"quay.io/rhoai/ray:2.35.0-py311-cu121-torch24-fa26\",\n",
    "))"
   ]
  },
  {
   "cell_type": "code",
   "execution_count": 4,
   "id": "213dfc74-606b-4ac1-8e15-c845edffc12c",
   "metadata": {
    "tags": []
   },
   "outputs": [
    {
     "name": "stdout",
     "output_type": "stream",
     "text": [
      "Ray Cluster: 'raytest' has successfully been created\n"
     ]
    }
   ],
   "source": [
    "# Bring up the Ray cluster\n",
    "cluster.up()"
   ]
  },
  {
   "cell_type": "code",
   "execution_count": 5,
   "id": "514d03ef-7a45-4eb7-9a95-6709c8db2c80",
   "metadata": {
    "tags": []
   },
   "outputs": [
    {
     "data": {
      "text/html": [
       "<pre style=\"white-space:pre;overflow-x:auto;line-height:normal;font-family:Menlo,'DejaVu Sans Mono',consolas,'Courier New',monospace\"><span style=\"font-style: italic\">                       </span><span style=\"font-weight: bold; font-style: italic\"> 🚀 CodeFlare Cluster Status 🚀</span><span style=\"font-style: italic\">                       </span>\n",
       "<span style=\"font-weight: bold\">                                                                             </span>\n",
       " ╭─────────────────────────────────────────────────────────────────────────╮ \n",
       " │   <span style=\"color: #c0c0c0; text-decoration-color: #c0c0c0; background-color: #008000; font-weight: bold\">Name</span>                                                                  │ \n",
       " │   <span style=\"font-weight: bold; text-decoration: underline\">raytest</span>                                                 Inactive ❌   │ \n",
       " │                                                                         │ \n",
       " │   <span style=\"font-weight: bold\">URI:</span> ray://raytest-head-svc.agentic-workshop.svc:10001                │ \n",
       " │                                                                         │ \n",
       " │   <a href=\"None\" target=\"_blank\"><span style=\"color: #000080; text-decoration-color: #000080; text-decoration: underline\">Dashboard🔗</span></a>                                                           │ \n",
       " │                                                                         │ \n",
       " ╰─────────────────────────────────────────────────────────────────────────╯ \n",
       "</pre>\n"
      ],
      "text/plain": [
       "\u001b[3m                       \u001b[0m\u001b[1;3m 🚀 CodeFlare Cluster Status 🚀\u001b[0m\u001b[3m                       \u001b[0m\n",
       "\u001b[1m \u001b[0m\u001b[1m                                                                           \u001b[0m\u001b[1m \u001b[0m\n",
       " ╭─────────────────────────────────────────────────────────────────────────╮ \n",
       " │   \u001b[1;37;42mName\u001b[0m                                                                  │ \n",
       " │   \u001b[1;4mraytest\u001b[0m                                                 Inactive ❌   │ \n",
       " │                                                                         │ \n",
       " │   \u001b[1mURI:\u001b[0m ray://raytest-head-svc.agentic-workshop.svc:10001                │ \n",
       " │                                                                         │ \n",
       " │   \u001b]8;id=836879;None\u001b\\\u001b[4;34mDashboard🔗\u001b[0m\u001b]8;;\u001b\\                                                           │ \n",
       " │                                                                         │ \n",
       " ╰─────────────────────────────────────────────────────────────────────────╯ \n"
      ]
     },
     "metadata": {},
     "output_type": "display_data"
    },
    {
     "data": {
      "text/plain": [
       "(<CodeFlareClusterStatus.STARTING: 2>, False)"
      ]
     },
     "execution_count": 5,
     "metadata": {},
     "output_type": "execute_result"
    }
   ],
   "source": [
    "# Check cluster status\n",
    "cluster.status()"
   ]
  },
  {
   "cell_type": "code",
   "execution_count": 6,
   "id": "eec2531c-c665-493c-9de5-5ca190ce1a19",
   "metadata": {
    "tags": []
   },
   "outputs": [
    {
     "name": "stdout",
     "output_type": "stream",
     "text": [
      "Waiting for requested resources to be set up...\n",
      "Requested cluster is up and running!\n",
      "Dashboard is ready!\n"
     ]
    }
   ],
   "source": [
    "# Wait for Ray cluster to be ready\n",
    "cluster.wait_ready()"
   ]
  },
  {
   "cell_type": "code",
   "execution_count": 7,
   "id": "4fd9ee04-782d-4042-a18a-1b01003fda64",
   "metadata": {
    "tags": []
   },
   "outputs": [
    {
     "data": {
      "text/html": [
       "<pre style=\"white-space:pre;overflow-x:auto;line-height:normal;font-family:Menlo,'DejaVu Sans Mono',consolas,'Courier New',monospace\"><span style=\"font-style: italic\">                     </span><span style=\"font-weight: bold; font-style: italic\"> 🚀 CodeFlare Cluster Details 🚀</span><span style=\"font-style: italic\">                      </span>\n",
       "<span style=\"font-weight: bold\">                                                                           </span>\n",
       " ╭───────────────────────────────────────────────────────────────────────╮ \n",
       " │   <span style=\"color: #c0c0c0; text-decoration-color: #c0c0c0; background-color: #008000; font-weight: bold\">Name</span>                                                                │ \n",
       " │   <span style=\"font-weight: bold; text-decoration: underline\">raytest</span>                                                 Active ✅   │ \n",
       " │                                                                       │ \n",
       " │   <span style=\"font-weight: bold\">URI:</span> ray://raytest-head-svc.agentic-workshop.svc:10001              │ \n",
       " │                                                                       │ \n",
       " │   <a href=\"https://ray-dashboard-raytest-agentic-workshop.apps.cluster-7vbv2.7vbv2.sandbox2425.opentlc.com\" target=\"_blank\"><span style=\"color: #000080; text-decoration-color: #000080; text-decoration: underline\">Dashboard🔗</span></a>                                                         │ \n",
       " │                                                                       │ \n",
       " │  <span style=\"font-style: italic\">                     Cluster Resources                     </span>          │ \n",
       " │   ╭── Workers ──╮  ╭───────── Worker specs(each) ─────────╮           │ \n",
       " │   │ <span style=\"font-weight: bold\"> # Workers </span> │  │ <span style=\"font-weight: bold\"> Memory      CPU         GPU        </span> │           │ \n",
       " │   │ <span style=\"color: #800080; text-decoration-color: #800080\">           </span> │  │ <span style=\"color: #008080; text-decoration-color: #008080\">            </span><span style=\"color: #800080; text-decoration-color: #800080\">                        </span> │           │ \n",
       " │   │ <span style=\"color: #800080; text-decoration-color: #800080\"> 3         </span> │  │ <span style=\"color: #008080; text-decoration-color: #008080\"> 8G~8G      </span><span style=\"color: #800080; text-decoration-color: #800080\"> 2~2         1          </span> │           │ \n",
       " │   │ <span style=\"color: #800080; text-decoration-color: #800080\">           </span> │  │ <span style=\"color: #008080; text-decoration-color: #008080\">            </span><span style=\"color: #800080; text-decoration-color: #800080\">                        </span> │           │ \n",
       " │   ╰─────────────╯  ╰──────────────────────────────────────╯           │ \n",
       " ╰───────────────────────────────────────────────────────────────────────╯ \n",
       "</pre>\n"
      ],
      "text/plain": [
       "\u001b[3m                     \u001b[0m\u001b[1;3m 🚀 CodeFlare Cluster Details 🚀\u001b[0m\u001b[3m                      \u001b[0m\n",
       "\u001b[1m \u001b[0m\u001b[1m                                                                         \u001b[0m\u001b[1m \u001b[0m\n",
       " ╭───────────────────────────────────────────────────────────────────────╮ \n",
       " │   \u001b[1;37;42mName\u001b[0m                                                                │ \n",
       " │   \u001b[1;4mraytest\u001b[0m                                                 Active ✅   │ \n",
       " │                                                                       │ \n",
       " │   \u001b[1mURI:\u001b[0m ray://raytest-head-svc.agentic-workshop.svc:10001              │ \n",
       " │                                                                       │ \n",
       " │   \u001b]8;id=958466;https://ray-dashboard-raytest-agentic-workshop.apps.cluster-7vbv2.7vbv2.sandbox2425.opentlc.com\u001b\\\u001b[4;34mDashboard🔗\u001b[0m\u001b]8;;\u001b\\                                                         │ \n",
       " │                                                                       │ \n",
       " │  \u001b[3m                     Cluster Resources                     \u001b[0m          │ \n",
       " │   ╭── Workers ──╮  ╭───────── Worker specs(each) ─────────╮           │ \n",
       " │   │ \u001b[1m \u001b[0m\u001b[1m# Workers\u001b[0m\u001b[1m \u001b[0m │  │ \u001b[1m \u001b[0m\u001b[1mMemory    \u001b[0m\u001b[1m \u001b[0m\u001b[1m \u001b[0m\u001b[1mCPU       \u001b[0m\u001b[1m \u001b[0m\u001b[1m \u001b[0m\u001b[1mGPU       \u001b[0m\u001b[1m \u001b[0m │           │ \n",
       " │   │ \u001b[35m \u001b[0m\u001b[35m         \u001b[0m\u001b[35m \u001b[0m │  │ \u001b[36m \u001b[0m\u001b[36m          \u001b[0m\u001b[36m \u001b[0m\u001b[35m \u001b[0m\u001b[35m          \u001b[0m\u001b[35m \u001b[0m\u001b[35m \u001b[0m\u001b[35m          \u001b[0m\u001b[35m \u001b[0m │           │ \n",
       " │   │ \u001b[35m \u001b[0m\u001b[35m3        \u001b[0m\u001b[35m \u001b[0m │  │ \u001b[36m \u001b[0m\u001b[36m8G~8G     \u001b[0m\u001b[36m \u001b[0m\u001b[35m \u001b[0m\u001b[35m2~2       \u001b[0m\u001b[35m \u001b[0m\u001b[35m \u001b[0m\u001b[35m1         \u001b[0m\u001b[35m \u001b[0m │           │ \n",
       " │   │ \u001b[35m \u001b[0m\u001b[35m         \u001b[0m\u001b[35m \u001b[0m │  │ \u001b[36m \u001b[0m\u001b[36m          \u001b[0m\u001b[36m \u001b[0m\u001b[35m \u001b[0m\u001b[35m          \u001b[0m\u001b[35m \u001b[0m\u001b[35m \u001b[0m\u001b[35m          \u001b[0m\u001b[35m \u001b[0m │           │ \n",
       " │   ╰─────────────╯  ╰──────────────────────────────────────╯           │ \n",
       " ╰───────────────────────────────────────────────────────────────────────╯ \n"
      ]
     },
     "metadata": {},
     "output_type": "display_data"
    },
    {
     "data": {
      "text/plain": [
       "RayCluster(name='raytest', status=<RayClusterStatus.READY: 'ready'>, head_cpu_requests=2, head_cpu_limits=2, head_mem_requests='8G', head_mem_limits='8G', num_workers=3, worker_mem_requests='8G', worker_mem_limits='8G', worker_cpu_requests=2, worker_cpu_limits=2, namespace='agentic-workshop', dashboard='https://ray-dashboard-raytest-agentic-workshop.apps.cluster-7vbv2.7vbv2.sandbox2425.opentlc.com', worker_extended_resources={'nvidia.com/gpu': 1}, head_extended_resources={})"
      ]
     },
     "execution_count": 7,
     "metadata": {},
     "output_type": "execute_result"
    }
   ],
   "source": [
    "# Check cluster details\n",
    "cluster.details()"
   ]
  },
  {
   "cell_type": "markdown",
   "id": "e2542d46-acbe-49ee-b8b4-bcd8b6d91f8c",
   "metadata": {},
   "source": [
    "### Ray Job Submission"
   ]
  },
  {
   "cell_type": "code",
   "execution_count": 8,
   "id": "f77b908a-fe76-4ced-a113-2e411d481ba6",
   "metadata": {
    "tags": []
   },
   "outputs": [],
   "source": [
    "client = cluster.job_client"
   ]
  },
  {
   "cell_type": "code",
   "execution_count": 9,
   "id": "ae8ed675-0976-4bd5-aff4-d78e629afa75",
   "metadata": {
    "tags": []
   },
   "outputs": [
    {
     "name": "stderr",
     "output_type": "stream",
     "text": [
      "2025-08-04 01:13:34,187\tINFO dashboard_sdk.py:338 -- Uploading package gcs://_ray_pkg_704f29fff3b90f7c.zip.\n",
      "2025-08-04 01:13:34,188\tINFO packaging.py:530 -- Creating a file package for local directory './'.\n"
     ]
    },
    {
     "name": "stdout",
     "output_type": "stream",
     "text": [
      "raysubmit_ydH9K3x7Bcv1eEu7\n"
     ]
    }
   ],
   "source": [
    "submission_id = client.submit_job(\n",
    "    entrypoint=\"python ray_fine_tuning.py\",\n",
    "    runtime_env={\n",
    "        \"env_vars\": {\n",
    "            'AWS_ACCESS_KEY_ID': 'minio',\n",
    "            'AWS_SECRET_ACCESS_KEY': 'minio123',\n",
    "            'AWS_DEFAULT_REGION': 'none',\n",
    "            'AWS_S3_ENDPOINT': 'http://minio-service.minio.svc.cluster.local:9000'\n",
    "        },\n",
    "        \"pip\": \"requirements.txt\",\n",
    "        \"working_dir\": \"./\",\n",
    "        \"excludes\": [\"*.ipynb\", \"*.md\"]\n",
    "    },\n",
    ")\n",
    "print(submission_id)"
   ]
  },
  {
   "cell_type": "markdown",
   "id": "6dc2de97-f25d-4652-8dd1-877823079eda",
   "metadata": {},
   "source": [
    "### Clean up"
   ]
  },
  {
   "cell_type": "code",
   "execution_count": 10,
   "id": "58a1b4b5-24b0-48e0-8d3f-1c8a2bcdec32",
   "metadata": {
    "tags": []
   },
   "outputs": [],
   "source": [
    "# client.stop_job(submission_id)"
   ]
  },
  {
   "cell_type": "code",
   "execution_count": 11,
   "id": "ab790e34-ab39-48fa-8d4a-88b157a6092f",
   "metadata": {
    "tags": []
   },
   "outputs": [],
   "source": [
    "# client.delete_job(submission_id)"
   ]
  },
  {
   "cell_type": "code",
   "execution_count": 12,
   "id": "e0a685e6-a05b-4b87-9f28-99522ceb4261",
   "metadata": {},
   "outputs": [],
   "source": [
    "# cluster.down()"
   ]
  },
  {
   "cell_type": "markdown",
   "id": "cda1ba1c-c897-49b6-8469-0ee4cc786e96",
   "metadata": {},
   "source": [
    "#Install TensorBoard in the Ray head node"
   ]
  },
  {
   "cell_type": "code",
   "execution_count": null,
   "id": "16ad94a7-b93e-4abb-9694-28a54e7b37dd",
   "metadata": {},
   "outputs": [],
   "source": [
    "# kubectl exec `kubectl get pod -l ray.io/node-type=head -o name` -- pip install tensorboard"
   ]
  },
  {
   "cell_type": "markdown",
   "id": "646c7618-48fa-457a-8a0b-6eec387fc927",
   "metadata": {},
   "source": [
    "Start TensorBoard server: "
   ]
  },
  {
   "cell_type": "code",
   "execution_count": null,
   "id": "e534e02e-3634-4216-a26f-1ee56d87138c",
   "metadata": {},
   "outputs": [],
   "source": [
    "# kubectl exec `kubectl get pod -l ray.io/node-type=head -o name` -- tensorboard --logdir /tmp/ray --bind_all --port 6006"
   ]
  },
  {
   "cell_type": "markdown",
   "id": "34071900-4539-4219-af0e-96ac7c21014b",
   "metadata": {},
   "source": [
    "Port-foward the TensorBoard UI endpoint: "
   ]
  },
  {
   "cell_type": "code",
   "execution_count": null,
   "id": "96c48a85-3be7-4535-97b2-8ac61bf1a480",
   "metadata": {},
   "outputs": [],
   "source": [
    "# kubectl port-forward `kubectl get pod -l ray.io/node-type=head -o name` 6006:6006\n",
    "# also add 6007 port with ray-head-service\n",
    "# raytest-head-svc\n",
    "\t\n",
    "# app.kubernetes.io/created-by=kuberay-operator, app.kubernetes.io/name=kuberay, ray.io/cluster=raytest, ray.io/identifier=raytest-head, ray.io/node-type=head\n",
    "\t\n",
    "# 172.30.71.76:10001\n",
    "# 172.30.71.76:8265\n",
    "# 172.30.71.76:6379\n",
    "# 172.30.71.76:8080\n",
    "# 172.30.71.76:6007\n",
    "# oc expose svc/rayclient-raytest with 6007"
   ]
  }
 ],
 "metadata": {
  "kernelspec": {
   "display_name": "Python 3.11",
   "language": "python",
   "name": "python3"
  },
  "language_info": {
   "codemirror_mode": {
    "name": "ipython",
    "version": 3
   },
   "file_extension": ".py",
   "mimetype": "text/x-python",
   "name": "python",
   "nbconvert_exporter": "python",
   "pygments_lexer": "ipython3",
   "version": "3.11.9"
  }
 },
 "nbformat": 4,
 "nbformat_minor": 5
}
