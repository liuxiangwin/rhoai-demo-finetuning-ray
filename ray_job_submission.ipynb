{
 "cells": [
  {
   "cell_type": "code",
   "execution_count": null,
   "id": "c403b526-df50-429f-8614-c2c4283c28d4",
   "metadata": {
    "tags": []
   },
   "outputs": [],
   "source": [
    "from codeflare_sdk import Cluster, ClusterConfiguration, TokenAuthentication\n",
    "import os"
   ]
  },
  {
   "cell_type": "markdown",
   "id": "b4028118-55bd-4796-a488-721d34483382",
   "metadata": {},
   "source": [
    "### Login to OpenShift Cluster"
   ]
  },
  {
   "cell_type": "code",
   "execution_count": null,
   "id": "2becf9cd-65d3-4fa5-b922-bf6a293b7e4f",
   "metadata": {
    "tags": []
   },
   "outputs": [],
   "source": [
    "auth = TokenAuthentication(\n",
    "    # Get from `oc whoami -t`\n",
    "    token = \"XXXXX\",\n",
    "    # Get from `oc whoami --show-server`\n",
    "    server = \"XXXXX\",\n",
    "    skip_tls=False\n",
    ")\n",
    "auth.login()"
   ]
  },
  {
   "cell_type": "markdown",
   "id": "fb522315-8428-4618-a256-12a05e1af127",
   "metadata": {},
   "source": [
    "### Create Ray Cluster"
   ]
  },
  {
   "cell_type": "code",
   "execution_count": null,
   "id": "fce0f508-0e44-46b8-8a59-84a23d7cbb5d",
   "metadata": {
    "scrolled": true,
    "tags": []
   },
   "outputs": [],
   "source": [
    "cluster = Cluster(ClusterConfiguration(\n",
    "    name='raytest', \n",
    "    namespace='fine-tuning', \n",
    "    # head_gpus=0, # Head node\n",
    "    num_gpus=1,\n",
    "    num_workers=3,\n",
    "    min_cpus=2,\n",
    "    max_cpus=2,\n",
    "    min_memory=8,\n",
    "    max_memory=8,\n",
    "    image=\"quay.io/rhoai/ray:2.23.0-py39-cu121-torch\",\n",
    "    instascale=False, # Enbale instascale or not\n",
    "    # machine_types=[\"m5.xlarge\", \"g4dn.xlarge\"], # instascale machine type\n",
    "))"
   ]
  },
  {
   "cell_type": "code",
   "execution_count": null,
   "id": "213dfc74-606b-4ac1-8e15-c845edffc12c",
   "metadata": {
    "tags": []
   },
   "outputs": [],
   "source": [
    "# Bring up the Ray cluster\n",
    "cluster.up()"
   ]
  },
  {
   "cell_type": "code",
   "execution_count": null,
   "id": "514d03ef-7a45-4eb7-9a95-6709c8db2c80",
   "metadata": {
    "tags": []
   },
   "outputs": [],
   "source": [
    "# Check cluster status\n",
    "cluster.status()"
   ]
  },
  {
   "cell_type": "code",
   "execution_count": null,
   "id": "eec2531c-c665-493c-9de5-5ca190ce1a19",
   "metadata": {
    "tags": []
   },
   "outputs": [],
   "source": [
    "# Wait for Ray cluster to be ready\n",
    "cluster.wait_ready()"
   ]
  },
  {
   "cell_type": "code",
   "execution_count": null,
   "id": "4fd9ee04-782d-4042-a18a-1b01003fda64",
   "metadata": {
    "tags": []
   },
   "outputs": [],
   "source": [
    "# Check cluster details\n",
    "cluster.details()"
   ]
  },
  {
   "cell_type": "markdown",
   "id": "e2542d46-acbe-49ee-b8b4-bcd8b6d91f8c",
   "metadata": {},
   "source": [
    "### Ray Job Submission"
   ]
  },
  {
   "cell_type": "code",
   "execution_count": 28,
   "id": "f77b908a-fe76-4ced-a113-2e411d481ba6",
   "metadata": {
    "tags": []
   },
   "outputs": [],
   "source": [
    "client = cluster.job_client"
   ]
  },
  {
   "cell_type": "code",
   "execution_count": null,
   "id": "ae8ed675-0976-4bd5-aff4-d78e629afa75",
   "metadata": {
    "tags": []
   },
   "outputs": [],
   "source": [
    "submission_id = client.submit_job(\n",
    "    entrypoint=\"python ray_fine_tuning.py\",\n",
    "    runtime_env={\n",
    "        \"env_vars\": {\n",
    "            \"AWS_ACCESS_KEY_ID\": os.environ.get('AWS_ACCESS_KEY_ID'),\n",
    "            \"AWS_SECRET_ACCESS_KEY\": os.environ.get('AWS_SECRET_ACCESS_KEY'),\n",
    "            \"AWS_S3_ENDPOINT\": os.environ.get('AWS_S3_ENDPOINT')\n",
    "        },\n",
    "        \"pip\": \"requirements.txt\",\n",
    "        \"working_dir\": \"./\",\n",
    "        \"excludes\": [\"*.ipynb\", \"*.md\"]\n",
    "    },\n",
    ")\n",
    "print(submission_id)"
   ]
  },
  {
   "cell_type": "markdown",
   "id": "6dc2de97-f25d-4652-8dd1-877823079eda",
   "metadata": {},
   "source": [
    "### Clean up"
   ]
  },
  {
   "cell_type": "code",
   "execution_count": null,
   "id": "58a1b4b5-24b0-48e0-8d3f-1c8a2bcdec32",
   "metadata": {
    "tags": []
   },
   "outputs": [],
   "source": [
    "client.stop_job(submission_id)"
   ]
  },
  {
   "cell_type": "code",
   "execution_count": null,
   "id": "ab790e34-ab39-48fa-8d4a-88b157a6092f",
   "metadata": {
    "tags": []
   },
   "outputs": [],
   "source": [
    "client.delete_job(submission_id)"
   ]
  },
  {
   "cell_type": "code",
   "execution_count": null,
   "id": "e0a685e6-a05b-4b87-9f28-99522ceb4261",
   "metadata": {},
   "outputs": [],
   "source": [
    "cluster.down()"
   ]
  }
 ],
 "metadata": {
  "kernelspec": {
   "display_name": "Python 3 (ipykernel)",
   "language": "python",
   "name": "python3"
  },
  "language_info": {
   "codemirror_mode": {
    "name": "ipython",
    "version": 3
   },
   "file_extension": ".py",
   "mimetype": "text/x-python",
   "name": "python",
   "nbconvert_exporter": "python",
   "pygments_lexer": "ipython3",
   "version": "3.9.1"
  }
 },
 "nbformat": 4,
 "nbformat_minor": 5
}
