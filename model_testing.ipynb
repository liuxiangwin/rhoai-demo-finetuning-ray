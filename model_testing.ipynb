{
 "cells": [
  {
   "cell_type": "markdown",
   "id": "f63069d6-8837-4015-8673-c3533ab1115c",
   "metadata": {},
   "source": [
    "### Install and import libraries"
   ]
  },
  {
   "cell_type": "code",
   "execution_count": null,
   "id": "e1549b15-204a-4915-9fff-d6dda3d22e40",
   "metadata": {
    "tags": []
   },
   "outputs": [],
   "source": [
    "!pip install -q s3fs\n",
    "!pip install -q pyarrow\n",
    "!pip install -q transformers\n",
    "!pip install -q torch"
   ]
  },
  {
   "cell_type": "code",
   "execution_count": 1,
   "id": "a4982861-49b7-43f1-bc0d-8a88860ba338",
   "metadata": {},
   "outputs": [],
   "source": [
    "import s3fs\n",
    "import os\n",
    "from transformers import GPT2LMHeadModel, GPT2Tokenizer"
   ]
  },
  {
   "cell_type": "markdown",
   "id": "7c3919f9-9938-4a37-8a67-4bff8252d038",
   "metadata": {},
   "source": [
    "### Download the checkpoint model from S3"
   ]
  },
  {
   "cell_type": "code",
   "execution_count": 16,
   "id": "06ae34fd-3f49-4efe-9673-ae4b0d94424c",
   "metadata": {
    "tags": []
   },
   "outputs": [],
   "source": [
    "s3_fs = s3fs.S3FileSystem(\n",
    "    key = os.environ['AWS_ACCESS_KEY_ID'],\n",
    "    secret = os.environ['AWS_SECRET_ACCESS_KEY'],\n",
    "    endpoint_url = os.environ['AWS_S3_ENDPOINT'],\n",
    ")"
   ]
  },
  {
   "cell_type": "code",
   "execution_count": 30,
   "id": "0c601186-5181-45a5-a7a5-c5b5b55c3c07",
   "metadata": {
    "tags": []
   },
   "outputs": [],
   "source": [
    "files = s3_fs.ls(\"s3://<Your checkpoint path>\")"
   ]
  },
  {
   "cell_type": "code",
   "execution_count": null,
   "id": "3c8a37ab-9175-4b6a-bf9b-33e2c4a03fb1",
   "metadata": {},
   "outputs": [],
   "source": [
    "os.makedirs('temp', exist_ok=True)"
   ]
  },
  {
   "cell_type": "code",
   "execution_count": 31,
   "id": "bfbf98d1-e4dd-4f00-8a9f-a146200fcdb4",
   "metadata": {
    "tags": []
   },
   "outputs": [],
   "source": [
    "for file in files:\n",
    "    s3_fs.download(file,'temp')"
   ]
  },
  {
   "cell_type": "markdown",
   "id": "90df8218-1bce-4f52-bb46-832f962bad12",
   "metadata": {},
   "source": [
    "### Load the model"
   ]
  },
  {
   "cell_type": "code",
   "execution_count": 2,
   "id": "cb823c3a-2622-4855-ab81-2b3c785fbeed",
   "metadata": {
    "tags": []
   },
   "outputs": [],
   "source": [
    "model_checkpoint = './temp'\n",
    "model = GPT2LMHeadModel.from_pretrained(model_checkpoint)\n",
    "tokenizer = GPT2Tokenizer.from_pretrained(model_checkpoint, use_fast=True)"
   ]
  },
  {
   "cell_type": "markdown",
   "id": "92553fed-af9d-4f66-935b-73f2ec242547",
   "metadata": {},
   "source": [
    "### Test the model using a prompt"
   ]
  },
  {
   "cell_type": "code",
   "execution_count": null,
   "id": "1f717c2c-8f3f-469b-881a-b1929fe464a0",
   "metadata": {},
   "outputs": [],
   "source": [
    "model.eval()\n",
    "max_length = 30\n",
    "prompt = \"There are two pencils in the box. Q: How many pencils? A:\"\n",
    "input_ids = tokenizer.encode(prompt, return_tensors=\"pt\")\n",
    "\n",
    "outputs = model.generate(input_ids, max_length=max_length, pad_token_id=tokenizer.eos_token_id)\n",
    "generated_text = tokenizer.decode(outputs[0], skip_special_tokens=True)\n",
    "print(generated_text)"
   ]
  }
 ],
 "metadata": {
  "kernelspec": {
   "display_name": "Python 3 (ipykernel)",
   "language": "python",
   "name": "python3"
  },
  "language_info": {
   "codemirror_mode": {
    "name": "ipython",
    "version": 3
   },
   "file_extension": ".py",
   "mimetype": "text/x-python",
   "name": "python",
   "nbconvert_exporter": "python",
   "pygments_lexer": "ipython3",
   "version": "3.9.1"
  }
 },
 "nbformat": 4,
 "nbformat_minor": 5
}
